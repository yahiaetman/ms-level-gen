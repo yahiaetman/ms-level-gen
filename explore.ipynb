{
 "cells": [
  {
   "cell_type": "code",
   "execution_count": null,
   "metadata": {},
   "outputs": [],
   "source": [
    "import numpy as np\n",
    "import matplotlib.pyplot as plt\n",
    "from common import config_tools\n",
    "import torch, time\n",
    "from games import GameConfig\n",
    "from methods.generator import MSGenerator\n",
    "from methods.ms_conditions import ControllableConditionModel"
   ]
  },
  {
   "cell_type": "markdown",
   "metadata": {},
   "source": [
    "## Startup Options\n",
    "Choose the options such as the game, generator, condition model, etc."
   ]
  },
  {
   "cell_type": "code",
   "execution_count": null,
   "metadata": {},
   "outputs": [],
   "source": [
    "game_name = \"sokoban\" # The name of game (sokoban, zelda, dave)\n",
    "generator_path = \"./configs/models/snake_ms_ce_gru.yml\" # The configuration of the generator\n",
    "experiment_name = \"DIV_PR_AUG_GFLOW\" # The name of the experiment if you are using files from the paper experiments\n",
    "experiment_number = 1 # The number of the experiment if you are using files from the paper experiments\n",
    "root = f\"./experiments/{game_name}/{experiment_name}/{experiment_number}\"\n",
    "weights_path = f\"{root}/checkpoints/model_10000.pt\" # The generator weights\n",
    "condition_model_path = f\"{root}/condition_models/GMM\" # The condition model config and parameters"
   ]
  },
  {
   "cell_type": "markdown",
   "metadata": {},
   "source": [
    "## Setup\n",
    "The next few cell create and loads the required objects (game, generator, etc).\n",
    "You just need to run them in order."
   ]
  },
  {
   "cell_type": "code",
   "execution_count": null,
   "metadata": {},
   "outputs": [],
   "source": [
    "# Create the game\n",
    "game_config: GameConfig = config_tools.read_config(f\"configs/{game_name}/game.yml\")\n",
    "game = game_config.create()"
   ]
  },
  {
   "cell_type": "code",
   "execution_count": null,
   "metadata": {},
   "outputs": [],
   "source": [
    "# Load the condition model\n",
    "condition_model_path = condition_model_path.removesuffix(\".cm\").removesuffix(\".yml\")\n",
    "condition_model_config = config_tools.read_config(condition_model_path + \".yml\")\n",
    "conditions = condition_model_config[\"conditions\"]\n",
    "cond_model: ControllableConditionModel = condition_model_config[\"condition_model_config\"].model_constructor(game, conditions)\n",
    "cond_model.load(condition_model_path + \".cm\")"
   ]
  },
  {
   "cell_type": "code",
   "execution_count": null,
   "metadata": {},
   "outputs": [],
   "source": [
    "# Load the generator\n",
    "device = torch.device(\"cuda\" if torch.cuda.is_available() else \"cpu\")\n",
    "\n",
    "generator_config = config_tools.read_config(generator_path)\n",
    "generator: MSGenerator = generator_config.model_constructor(len(game.tiles), len(conditions)).to(device)\n",
    "weights = torch.load(weights_path)\n",
    "generator.load_state_dict(weights[\"netG\"])"
   ]
  },
  {
   "cell_type": "code",
   "execution_count": null,
   "metadata": {},
   "outputs": [],
   "source": [
    "# Load information about the controls\n",
    "controlled_conditions = config_tools.read_config(f\"./configs/{game_name}/analysis/generate_ctrl.yml\")[\"controlled_conditions\"]\n",
    "controlled_conditions = {\n",
    "    control[\"control_name\"]: {\n",
    "        \"condition\": control[\"condition\"], \n",
    "        \"mapping\": eval(f\"lambda value, size: {control['mapping']}\")\n",
    "    }\n",
    "    for control in controlled_conditions\n",
    "}\n",
    "\n",
    "def map_controls(controls, size):\n",
    "    return {\n",
    "        controlled_conditions[name][\"condition\"]: controlled_conditions[name][\"mapping\"](value, size)\n",
    "        for name, value in controls.items()\n",
    "    }"
   ]
  },
  {
   "cell_type": "code",
   "execution_count": null,
   "metadata": {},
   "outputs": [],
   "source": [
    "# A utility function to present the generation results\n",
    "def present(results):\n",
    "    count = len(results)\n",
    "    levels = np.array([item['level'] for item in results])\n",
    "    images = game.render(levels, 0)\n",
    "    images = images.transpose([0, 2, 3, 1])\n",
    "    r, c = count//5, 5\n",
    "    fig = plt.figure(figsize=(5*c,5*r))\n",
    "    axs = fig.subplots(nrows=r, ncols=c, squeeze=False)\n",
    "    axs = [ax for row in axs for ax in row]\n",
    "    for i, item in enumerate(results):\n",
    "        subtitle = \"Playable\" if item['solvable'] else \"Not Playable\"\n",
    "        if item['solvable']:\n",
    "            for prop in controlled_conditions:\n",
    "                subtitle += \"\\n\"\n",
    "                subtitle += f\"{prop}: {item[prop]}\"\n",
    "        ax = axs[i]\n",
    "        ax.imshow(images[i])\n",
    "        ax.axis('off')\n",
    "        ax.set_title(subtitle)"
   ]
  },
  {
   "cell_type": "markdown",
   "metadata": {},
   "source": [
    "# Generate\n",
    "- Run the following cell to generate levels.\n",
    "- You can pick some values for the controls (or leave them empty for unconditonally generate levels).\n",
    "- You have to pick the requested level size and the requested number of levels. "
   ]
  },
  {
   "cell_type": "code",
   "execution_count": null,
   "metadata": {},
   "outputs": [],
   "source": [
    "controls = {\n",
    "    # Sokoban Controls\n",
    "\n",
    "    # 'pushed-crates': 2,\n",
    "    'solution-length': 300,\n",
    "\n",
    "    # Zelda Controls\n",
    "\n",
    "    # 'enemies': 1,\n",
    "    # 'nearest-enemy-distance': 30,\n",
    "    # 'path-length': 90,\n",
    "\n",
    "    # Danger Dave Controls\n",
    "\n",
    "    # 'spikes': 3,\n",
    "    # 'jumps': 2,\n",
    "    # 'solution-length': 50,\n",
    "}\n",
    "size = (7, 7)\n",
    "count = 10\n",
    "\n",
    "# Since the controls are not given to the network (or the condition model) as is,\n",
    "# we need to map them to their corresponding input values.\n",
    "given = map_controls(controls, size)\n",
    "\n",
    "if given:\n",
    "    query = cond_model.sample_given(size, count, given) # If any controls are picked by the user, we sample the rest conditionally.\n",
    "else:\n",
    "    query = cond_model.sample(size, count) # If no controls are picked by the user, all the conditions are sampled unconditionally.\n",
    "\n",
    "t0 = time.time()\n",
    "levels = generator.generate(query.to(device), size) # Generate levels using the given conditions at the requested size.\n",
    "generator_elapsed = time.time() - t0\n",
    "print(f\"Levels generated in {generator_elapsed} secs\")\n",
    "\n",
    "t0 = time.time()\n",
    "results = game.analyze(levels.tolist()) # Analyze the generation results.\n",
    "analysis_elapsed = time.time() - t0\n",
    "print(f\"Levels analyzed in {analysis_elapsed} secs\")\n",
    "\n",
    "present(results)"
   ]
  }
 ],
 "metadata": {
  "kernelspec": {
   "display_name": "Python 3.9.7 ('base')",
   "language": "python",
   "name": "python3"
  },
  "language_info": {
   "codemirror_mode": {
    "name": "ipython",
    "version": 3
   },
   "file_extension": ".py",
   "mimetype": "text/x-python",
   "name": "python",
   "nbconvert_exporter": "python",
   "pygments_lexer": "ipython3",
   "version": "3.9.7"
  },
  "orig_nbformat": 4,
  "vscode": {
   "interpreter": {
    "hash": "e706691a3aaac2f02c972cdd783824e31038dc52bfbffb63b2700f969e441707"
   }
  }
 },
 "nbformat": 4,
 "nbformat_minor": 2
}
